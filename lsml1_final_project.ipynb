{
 "cells": [
  {
   "cell_type": "markdown",
   "id": "0ee83559",
   "metadata": {},
   "source": [
    "# Large Scale ML. Final Project"
   ]
  },
  {
   "cell_type": "code",
   "execution_count": 1,
   "id": "e12ca514",
   "metadata": {},
   "outputs": [],
   "source": [
    "import findspark\n",
    "findspark.init()"
   ]
  },
  {
   "cell_type": "code",
   "execution_count": 2,
   "id": "cc1796f8",
   "metadata": {},
   "outputs": [],
   "source": [
    "from pyspark.sql.window import Window\n",
    "import os\n",
    "import sys\n",
    "from pyspark import SparkContext, SparkConf\n",
    "from pyspark.sql import SparkSession, Row\n",
    "from pyspark.sql.types import StructType, StructField, StringType, IntegerType\n",
    "from pyspark.sql.window import Window\n",
    "from pyspark.sql.functions import col, row_number\n",
    "from pyspark.sql.functions import udf\n",
    "import pyspark.sql.functions as F\n",
    "import json"
   ]
  },
  {
   "cell_type": "code",
   "execution_count": 3,
   "id": "6f1a65ff",
   "metadata": {},
   "outputs": [],
   "source": [
    "os.environ[\"PYTHONHASHSEED\"]=str(232)"
   ]
  },
  {
   "cell_type": "code",
   "execution_count": 4,
   "id": "c1e431ca",
   "metadata": {},
   "outputs": [],
   "source": [
    "sc = SparkContext(appName=\"final_project\")\n",
    "se = SparkSession(sc)"
   ]
  },
  {
   "cell_type": "code",
   "execution_count": 5,
   "id": "faa8e8dc",
   "metadata": {},
   "outputs": [
    {
     "data": {
      "text/html": [
       "\n",
       "        <div>\n",
       "            <p><b>SparkContext</b></p>\n",
       "\n",
       "            <p><a href=\"http://host.docker.internal:4040\">Spark UI</a></p>\n",
       "\n",
       "            <dl>\n",
       "              <dt>Version</dt>\n",
       "                <dd><code>v3.5.0</code></dd>\n",
       "              <dt>Master</dt>\n",
       "                <dd><code>local[*]</code></dd>\n",
       "              <dt>AppName</dt>\n",
       "                <dd><code>final_project</code></dd>\n",
       "            </dl>\n",
       "        </div>\n",
       "        "
      ],
      "text/plain": [
       "<SparkContext master=local[*] appName=final_project>"
      ]
     },
     "execution_count": 5,
     "metadata": {},
     "output_type": "execute_result"
    }
   ],
   "source": [
    "sc"
   ]
  },
  {
   "cell_type": "code",
   "execution_count": 6,
   "id": "924dce0c",
   "metadata": {},
   "outputs": [
    {
     "name": "stdout",
     "output_type": "stream",
     "text": [
      "+-------+----------+------------+----------+----------+\n",
      "|user_id|session_id|  event_type|event_page| timestamp|\n",
      "+-------+----------+------------+----------+----------+\n",
      "|    562|       507|        page|      main|1695584127|\n",
      "|    562|       507|       event|      main|1695584134|\n",
      "|    562|       507|       event|      main|1695584144|\n",
      "|    562|       507|       event|      main|1695584147|\n",
      "|    562|       507|wNaxLlerrorU|      main|1695584154|\n",
      "|    562|       507|       event|      main|1695584154|\n",
      "|    562|       507|       event|      main|1695584154|\n",
      "|    562|       507|       event|      main|1695584160|\n",
      "|    562|       507|        page|    rabota|1695584166|\n",
      "|    562|       507|       event|    rabota|1695584174|\n",
      "+-------+----------+------------+----------+----------+\n",
      "only showing top 10 rows\n",
      "\n"
     ]
    }
   ],
   "source": [
    "filename = \"clickstream.csv\"\n",
    "sessions_data = se.read.csv(filename, header=True, sep='\\t', inferSchema=True)\n",
    "sessions_data.show(10)"
   ]
  },
  {
   "cell_type": "markdown",
   "id": "08e71511",
   "metadata": {},
   "source": [
    "## SQL"
   ]
  },
  {
   "cell_type": "code",
   "execution_count": 7,
   "id": "d8f5c44b",
   "metadata": {},
   "outputs": [],
   "source": [
    "sessions = sessions_data.cache()\n",
    "sessions.createOrReplaceTempView('clickstream')\n",
    "w = Window.partitionBy(\"user_id\", \"session_id\").orderBy(\"timestamp\")"
   ]
  },
  {
   "cell_type": "code",
   "execution_count": 8,
   "id": "77bfbdb0",
   "metadata": {},
   "outputs": [],
   "source": [
    "query = \"\"\"WITH base AS (SELECT * FROM clickstream ORDER BY user_id, session_id, timestamp), filtered_sessions AS \n",
    "(SELECT * ,SUM(CASE WHEN event_type LIKE '%error%' THEN 1 ELSE 0 END) OVER (PARTITION BY user_id, session_id ORDER BY timestamp) as error_count\n",
    "FROM base WHERE 1=1) ,valid_sessions AS (SELECT user_id, session_id, event_page, timestamp FROM filtered_sessions\n",
    "WHERE 1=1 AND error_count = 0 AND event_type = 'page')\n",
    ",user_routes AS (SELECT user_id, session_id, CONCAT_WS('-', COLLECT_LIST(event_page) OVER \n",
    "(PARTITION BY user_id, session_id ORDER BY timestamp, event_page ROWS BETWEEN UNBOUNDED PRECEDING AND UNBOUNDED FOLLOWING)) \n",
    "as route FROM valid_sessions) SELECT route, COUNT(*) as count FROM (SELECT DISTINCT * FROM user_routes) GROUP BY route\n",
    "ORDER BY count DESC LIMIT 30\"\"\""
   ]
  },
  {
   "cell_type": "code",
   "execution_count": 9,
   "id": "187a34a5",
   "metadata": {},
   "outputs": [
    {
     "name": "stdout",
     "output_type": "stream",
     "text": [
      "+---------------------+-----+\n",
      "|route                |count|\n",
      "+---------------------+-----+\n",
      "|main                 |8090 |\n",
      "|main-archive         |1095 |\n",
      "|main-rabota          |1039 |\n",
      "|main-internet        |879  |\n",
      "|main-bonus           |865  |\n",
      "|main-news            |760  |\n",
      "|main-tariffs         |669  |\n",
      "|main-online          |584  |\n",
      "|main-vklad           |514  |\n",
      "|main-archive-rabota  |167  |\n",
      "|main-rabota-archive  |167  |\n",
      "|main-bonus-archive   |139  |\n",
      "|main-rabota-bonus    |136  |\n",
      "|main-bonus-rabota    |134  |\n",
      "|main-news-rabota     |134  |\n",
      "|main-archive-internet|131  |\n",
      "|main-rabota-news     |129  |\n",
      "|main-internet-rabota |128  |\n",
      "|main-archive-news    |125  |\n",
      "|main-rabota-internet |123  |\n",
      "|main-internet-archive|123  |\n",
      "|main-archive-bonus   |117  |\n",
      "|main-tariffs-internet|114  |\n",
      "|main-internet-bonus  |114  |\n",
      "|main-news-archive    |112  |\n",
      "|main-news-internet   |108  |\n",
      "|main-archive-tariffs |103  |\n",
      "|main-internet-news   |102  |\n",
      "|main-tariffs-archive |102  |\n",
      "|main-main            |94   |\n",
      "+---------------------+-----+\n",
      "\n"
     ]
    }
   ],
   "source": [
    "result = se.sql(query)\n",
    "result.show(30, truncate=False)"
   ]
  },
  {
   "cell_type": "markdown",
   "id": "6d14f47d",
   "metadata": {},
   "source": [
    "## RDD"
   ]
  },
  {
   "cell_type": "code",
   "execution_count": 10,
   "id": "f7488277",
   "metadata": {},
   "outputs": [],
   "source": [
    "sessions = sessions_data.rdd.persist()"
   ]
  },
  {
   "cell_type": "code",
   "execution_count": 11,
   "id": "9d623cf4",
   "metadata": {},
   "outputs": [
    {
     "data": {
      "text/plain": [
       "[((844, 258), 1695584652),\n",
       " ((116, 994), 1695586753),\n",
       " ((4152, 646), 1695592170),\n",
       " ((165, 481), 1695596660),\n",
       " ((3472, 86), 1695598280),\n",
       " ((3956, 130), 1695600853),\n",
       " ((1817, 253), 1695601060),\n",
       " ((3870, 372), 1695611823),\n",
       " ((3304, 54), 1695617988),\n",
       " ((2564, 10), 1695620464)]"
      ]
     },
     "execution_count": 11,
     "metadata": {},
     "output_type": "execute_result"
    }
   ],
   "source": [
    "errors = sessions.filter(lambda row: \"error\" in row.event_type.lower())\n",
    "errors = errors.map(lambda row: ((row.user_id, row.session_id), row.timestamp))\n",
    "errors = errors.reduceByKey(lambda a,b: min(a, b))\n",
    "errors.take(10)"
   ]
  },
  {
   "cell_type": "code",
   "execution_count": 13,
   "id": "c7e42f31",
   "metadata": {},
   "outputs": [
    {
     "data": {
      "text/plain": [
       "[((2209, 541), ('main', 1695585442)),\n",
       " ((2209, 541), ('bonus', 1695585553)),\n",
       " ((2209, 541), ('online', 1695585593)),\n",
       " ((2209, 541), ('internet', 1695585792)),\n",
       " ((2209, 541), ('news', 1695585878)),\n",
       " ((2209, 541), ('main', 1695585994)),\n",
       " ((116, 994), ('main', 1695586629)),\n",
       " ((116, 994), ('tariffs', 1695586637)),\n",
       " ((116, 994), ('archive', 1695586673)),\n",
       " ((116, 994), ('vklad', 1695586703))]"
      ]
     },
     "execution_count": 13,
     "metadata": {},
     "output_type": "execute_result"
    }
   ],
   "source": [
    "correct = sessions.filter(lambda r: r.event_type.lower() == \"page\")\n",
    "correct = correct.map(lambda r: ((r.user_id, r.session_id), (r.event_page, r.timestamp)))\n",
    "correct = correct.leftOuterJoin(errors).filter(lambda a: a[1][1] is None or (a[1][0][1] < a[1][1]))                        \n",
    "correct = correct.map(lambda a: (a[0], a[1][0])).filter(lambda a: a[1][1] is not None)          \n",
    "correct.take(10)"
   ]
  },
  {
   "cell_type": "code",
   "execution_count": 14,
   "id": "be7d98a9",
   "metadata": {},
   "outputs": [],
   "source": [
    "routes = correct.groupByKey()\n",
    "routes = routes.mapValues(lambda a: '-'.join([page for page, timestamp in sorted(a, key=lambda b: (b[1], b[0]))]))\n",
    "routes = routes.map(lambda a: (a[1], 1))\n",
    "routes = routes.reduceByKey(lambda a, b: a + b)\n",
    "routes = routes.takeOrdered(30, key=lambda x: -x[1])"
   ]
  },
  {
   "cell_type": "code",
   "execution_count": 15,
   "id": "3341afa4",
   "metadata": {},
   "outputs": [
    {
     "name": "stdout",
     "output_type": "stream",
     "text": [
      "main - 8090\n",
      "main-archive - 1095\n",
      "main-rabota - 1039\n",
      "main-internet - 879\n",
      "main-bonus - 865\n",
      "main-news - 760\n",
      "main-tariffs - 669\n",
      "main-online - 584\n",
      "main-vklad - 514\n",
      "main-rabota-archive - 167\n",
      "main-archive-rabota - 167\n",
      "main-bonus-archive - 139\n",
      "main-rabota-bonus - 136\n",
      "main-news-rabota - 134\n",
      "main-bonus-rabota - 134\n",
      "main-archive-internet - 131\n",
      "main-rabota-news - 129\n",
      "main-internet-rabota - 128\n",
      "main-archive-news - 125\n",
      "main-rabota-internet - 123\n",
      "main-internet-archive - 123\n",
      "main-archive-bonus - 117\n",
      "main-tariffs-internet - 114\n",
      "main-internet-bonus - 114\n",
      "main-news-archive - 112\n",
      "main-news-internet - 108\n",
      "main-archive-tariffs - 103\n",
      "main-internet-news - 102\n",
      "main-tariffs-archive - 102\n",
      "main-main - 94\n"
     ]
    }
   ],
   "source": [
    "for route, count in routes:\n",
    "    print(route, \"-\", count)"
   ]
  },
  {
   "cell_type": "markdown",
   "id": "5dde4f4f",
   "metadata": {},
   "source": [
    "## DF "
   ]
  },
  {
   "cell_type": "code",
   "execution_count": 16,
   "id": "945bb0a3",
   "metadata": {},
   "outputs": [],
   "source": [
    "sessions = sessions_data.orderBy(\"user_id\", \"session_id\", \"event_page\", \"timestamp\")"
   ]
  },
  {
   "cell_type": "code",
   "execution_count": 17,
   "id": "4e1c6476",
   "metadata": {},
   "outputs": [],
   "source": [
    "w = Window.partitionBy(\"user_id\", \"session_id\")\n",
    "w = w.orderBy(\"timestamp\")"
   ]
  },
  {
   "cell_type": "code",
   "execution_count": 18,
   "id": "bf423d4b",
   "metadata": {},
   "outputs": [
    {
     "name": "stdout",
     "output_type": "stream",
     "text": [
      "+-------+----------+----------+----------+----------+-----------+\n",
      "|user_id|session_id|event_type|event_page| timestamp|error_count|\n",
      "+-------+----------+----------+----------+----------+-----------+\n",
      "|      0|       874|      page|      main|1696371064|          0|\n",
      "|      0|       874|     event|      main|1696372696|          0|\n",
      "|      0|       874|     event|      main|1696373564|          0|\n",
      "|      0|       874|      page|    rabota|1696374894|          0|\n",
      "|      0|       874|     event|    rabota|1696377393|          0|\n",
      "|      0|       874|      page|    online|1696378229|          0|\n",
      "|      0|       874|     event|    online|1696378928|          0|\n",
      "|      0|       901|      page|      main|1698989569|          0|\n",
      "|      0|       901|     event|      main|1698989581|          0|\n",
      "|      0|       901|      page|  internet|1698989737|          0|\n",
      "+-------+----------+----------+----------+----------+-----------+\n",
      "only showing top 10 rows\n",
      "\n"
     ]
    }
   ],
   "source": [
    "sessions = sessions.withColumn(\"error_count\", F.sum(F.when(F.col(\"event_type\").like(\"%error%\"), 1).otherwise(0)).over(w))\n",
    "sessions.show(10)"
   ]
  },
  {
   "cell_type": "code",
   "execution_count": 19,
   "id": "61af500e",
   "metadata": {},
   "outputs": [
    {
     "name": "stdout",
     "output_type": "stream",
     "text": [
      "+-------+----------+----------+----------+----------+-----------+\n",
      "|user_id|session_id|event_type|event_page| timestamp|error_count|\n",
      "+-------+----------+----------+----------+----------+-----------+\n",
      "|      0|       874|      page|      main|1696371064|          0|\n",
      "|      0|       874|      page|    rabota|1696374894|          0|\n",
      "|      0|       874|      page|    online|1696378229|          0|\n",
      "|      0|       901|      page|      main|1698989569|          0|\n",
      "|      0|       901|      page|  internet|1698989737|          0|\n",
      "|      0|       901|      page|     bonus|1698989797|          0|\n",
      "|      0|       901|      page|      main|1698989993|          0|\n",
      "|      0|       901|      page|  internet|1698990779|          0|\n",
      "|      0|       901|      page|     vklad|1698991260|          0|\n",
      "|      0|       901|      page|      main|1698991594|          0|\n",
      "+-------+----------+----------+----------+----------+-----------+\n",
      "only showing top 10 rows\n",
      "\n"
     ]
    }
   ],
   "source": [
    "correct = sessions.filter((F.col(\"error_count\") == 0) & (F.col(\"event_type\") == \"page\"))\n",
    "correct.show(10)"
   ]
  },
  {
   "cell_type": "code",
   "execution_count": 20,
   "id": "7846b17f",
   "metadata": {},
   "outputs": [],
   "source": [
    "routes = correct.withColumn(\"route\", F.concat_ws('-', F.collect_list(\"event_page\").over(w.rowsBetween(Window.unboundedPreceding, Window.unboundedFollowing)))).select(\"user_id\", \"session_id\", \"route\")\n",
    "routes = routes.distinct()\n",
    "routes = routes.groupBy(\"route\")\n",
    "routes = routes.count()\n",
    "routes = routes.orderBy(F.col(\"count\").desc())\n",
    "routes = routes.limit(30)"
   ]
  },
  {
   "cell_type": "code",
   "execution_count": 21,
   "id": "5dd4be44",
   "metadata": {},
   "outputs": [
    {
     "name": "stdout",
     "output_type": "stream",
     "text": [
      "+---------------------+-----+\n",
      "|route                |count|\n",
      "+---------------------+-----+\n",
      "|main                 |8090 |\n",
      "|main-archive         |1095 |\n",
      "|main-rabota          |1039 |\n",
      "|main-internet        |879  |\n",
      "|main-bonus           |865  |\n",
      "|main-news            |760  |\n",
      "|main-tariffs         |669  |\n",
      "|main-online          |584  |\n",
      "|main-vklad           |514  |\n",
      "|main-archive-rabota  |167  |\n",
      "|main-rabota-archive  |167  |\n",
      "|main-bonus-archive   |139  |\n",
      "|main-rabota-bonus    |136  |\n",
      "|main-bonus-rabota    |134  |\n",
      "|main-news-rabota     |134  |\n",
      "|main-archive-internet|131  |\n",
      "|main-rabota-news     |129  |\n",
      "|main-internet-rabota |128  |\n",
      "|main-archive-news    |125  |\n",
      "|main-rabota-internet |123  |\n",
      "|main-internet-archive|123  |\n",
      "|main-archive-bonus   |117  |\n",
      "|main-internet-bonus  |114  |\n",
      "|main-tariffs-internet|114  |\n",
      "|main-news-archive    |112  |\n",
      "|main-news-internet   |108  |\n",
      "|main-archive-tariffs |103  |\n",
      "|main-internet-news   |102  |\n",
      "|main-tariffs-archive |102  |\n",
      "|main-main            |94   |\n",
      "+---------------------+-----+\n",
      "\n"
     ]
    }
   ],
   "source": [
    "routes.show(30, truncate=False)"
   ]
  },
  {
   "cell_type": "code",
   "execution_count": 22,
   "id": "db3a4add",
   "metadata": {},
   "outputs": [],
   "source": [
    "result = routes.toJSON()\n",
    "output = [eval(i) for i in result.collect()]\n",
    "\n",
    "with open(\"result.json\", 'w') as f:\n",
    "    json.dump(output, f)"
   ]
  },
  {
   "cell_type": "code",
   "execution_count": null,
   "id": "9f06231b",
   "metadata": {},
   "outputs": [],
   "source": []
  }
 ],
 "metadata": {
  "kernelspec": {
   "display_name": "Python 3 (ipykernel)",
   "language": "python",
   "name": "python3"
  },
  "language_info": {
   "codemirror_mode": {
    "name": "ipython",
    "version": 3
   },
   "file_extension": ".py",
   "mimetype": "text/x-python",
   "name": "python",
   "nbconvert_exporter": "python",
   "pygments_lexer": "ipython3",
   "version": "3.11.5"
  }
 },
 "nbformat": 4,
 "nbformat_minor": 5
}
